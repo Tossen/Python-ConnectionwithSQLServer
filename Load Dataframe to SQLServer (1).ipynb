{
 "cells": [
  {
   "cell_type": "markdown",
   "metadata": {},
   "source": [
    "import sys\n",
    "import pandas as pd\n",
    "import numpy\n",
    "a_list = list()\n",
    "a_tuple = tuple()\n",
    "a_list = [1,2,3,4,5]\n",
    "a_tuple = (1,2,3,4,5)\n",
    "print(sys.getsizeof(a_list))\n",
    "print(sys.getsizeof(a_tuple))"
   ]
  },
  {
   "cell_type": "code",
   "execution_count": 20,
   "metadata": {},
   "outputs": [
    {
     "name": "stdout",
     "output_type": "stream",
     "text": [
      "3.6.7\n",
      "Instantiation time for LIST: 0.20690560340881348\n",
      "Instantiation time for TUPLE: 0.24247360229492188\n",
      "Lookup time for LIST:  0.7080817222595215\n",
      "Lookup time for TUPLE:  0.7638595104217529\n"
     ]
    }
   ],
   "source": [
    "import sys, platform\n",
    "import time\n",
    "print(platform.python_version())\n",
    "start_time = time.time()\n",
    "b_list = list(range(10000000))\n",
    "end_time = time.time()\n",
    "print(\"Instantiation time for LIST:\", end_time - start_time)\n",
    "start_time = time.time()\n",
    "b_tuple = tuple(range(10000000))\n",
    "end_time = time.time()\n",
    "print(\"Instantiation time for TUPLE:\", end_time - start_time)\n",
    "start_time = time.time()\n",
    "for item in b_list:\n",
    "  aa = b_list[20000]\n",
    "end_time = time.time()\n",
    "print(\"Lookup time for LIST: \", end_time - start_time)\n",
    "start_time = time.time()\n",
    "for item in b_tuple:\n",
    "  aa = b_tuple[20000]\n",
    "end_time = time.time()\n",
    "print(\"Lookup time for TUPLE: \", end_time - start_time)"
   ]
  },
  {
   "cell_type": "markdown",
   "metadata": {},
   "source": [
    "## GETTING THE ASCII VALUE OF CHARACTERS"
   ]
  },
  {
   "cell_type": "code",
   "execution_count": 49,
   "metadata": {},
   "outputs": [
    {
     "data": {
      "text/plain": [
       "'Upper'"
      ]
     },
     "execution_count": 49,
     "metadata": {},
     "output_type": "execute_result"
    }
   ],
   "source": [
    "def solution(s):\n",
    "    c = s[0]\n",
    "    if ord(c) >= 65 and ord(c) <=90:\n",
    "        return \"Upper\"\n",
    "    elif ord(c) >= 97 and ord(c) <= 122:\n",
    "        return \"Lower\"\n",
    "    elif ord(c) >= 48 and ord(c) <= 57:\n",
    "        return \"digit\"\n",
    "    else:\n",
    "        return \"Other\"\n",
    "    \n",
    "solution('Kimh')"
   ]
  },
  {
   "cell_type": "markdown",
   "metadata": {},
   "source": [
    "## HOW TO RETURN THE LOWEST POSITIVE INTEGER NOT IN A LIST"
   ]
  },
  {
   "cell_type": "code",
   "execution_count": 95,
   "metadata": {},
   "outputs": [
    {
     "name": "stdout",
     "output_type": "stream",
     "text": [
      "1\n"
     ]
    }
   ],
   "source": [
    "from itertools import count, filterfalse # ifilterfalse on py2\n",
    "\n",
    "A = [4,14,2,5,3,7,8,12]\n",
    "print(next(filterfalse(set(A).__contains__, count(1))))"
   ]
  },
  {
   "cell_type": "code",
   "execution_count": 101,
   "metadata": {},
   "outputs": [
    {
     "ename": "TypeError",
     "evalue": "must use keyword argument for key function",
     "output_type": "error",
     "traceback": [
      "\u001b[1;31m---------------------------------------------------------------------------\u001b[0m",
      "\u001b[1;31mTypeError\u001b[0m                                 Traceback (most recent call last)",
      "\u001b[1;32m<ipython-input-101-9bfcf3a33c4f>\u001b[0m in \u001b[0;36m<module>\u001b[1;34m\u001b[0m\n\u001b[0;32m      4\u001b[0m \u001b[1;32melse\u001b[0m\u001b[1;33m:\u001b[0m\u001b[1;33m\u001b[0m\u001b[1;33m\u001b[0m\u001b[0m\n\u001b[0;32m      5\u001b[0m     \u001b[1;32mfor\u001b[0m \u001b[0mx\u001b[0m \u001b[1;32min\u001b[0m \u001b[0mrange\u001b[0m \u001b[1;33m(\u001b[0m\u001b[1;36m1\u001b[0m\u001b[1;33m,\u001b[0m\u001b[1;33m(\u001b[0m\u001b[0mA\u001b[0m\u001b[1;33m[\u001b[0m\u001b[1;33m-\u001b[0m\u001b[1;36m1\u001b[0m\u001b[1;33m]\u001b[0m \u001b[1;33m+\u001b[0m \u001b[1;36m2\u001b[0m\u001b[1;33m)\u001b[0m\u001b[1;33m)\u001b[0m\u001b[1;33m:\u001b[0m\u001b[1;33m\u001b[0m\u001b[1;33m\u001b[0m\u001b[0m\n\u001b[1;32m----> 6\u001b[1;33m         \u001b[1;32mif\u001b[0m  \u001b[0mA\u001b[0m\u001b[1;33m.\u001b[0m\u001b[0msort\u001b[0m\u001b[1;33m(\u001b[0m\u001b[0mA\u001b[0m\u001b[1;33m[\u001b[0m\u001b[1;36m1\u001b[0m\u001b[1;33m]\u001b[0m\u001b[1;33m)\u001b[0m \u001b[1;33m>=\u001b[0m \u001b[0mx\u001b[0m\u001b[1;33m:\u001b[0m\u001b[1;33m\u001b[0m\u001b[1;33m\u001b[0m\u001b[0m\n\u001b[0m\u001b[0;32m      7\u001b[0m             \u001b[1;32mcontinue\u001b[0m\u001b[1;33m\u001b[0m\u001b[1;33m\u001b[0m\u001b[0m\n\u001b[0;32m      8\u001b[0m         \u001b[1;32melse\u001b[0m\u001b[1;33m:\u001b[0m\u001b[1;33m\u001b[0m\u001b[1;33m\u001b[0m\u001b[0m\n",
      "\u001b[1;31mTypeError\u001b[0m: must use keyword argument for key function"
     ]
    }
   ],
   "source": [
    "A.sort()\n",
    "if A[1] < 0:\n",
    "    print (0)\n",
    "else:\n",
    "    for x in range (1,(A[-1] + 2)):\n",
    "        if  A[1] < x:\n",
    "            continue\n",
    "        else:\n",
    "            \n",
    "    \n",
    "        \n",
    "      \n",
    "    "
   ]
  },
  {
   "cell_type": "code",
   "execution_count": 11,
   "metadata": {},
   "outputs": [
    {
     "name": "stdout",
     "output_type": "stream",
     "text": [
      "ell\n"
     ]
    }
   ],
   "source": [
    "s = 'Hello Nigeria'\n",
    "print(s[1:4])"
   ]
  },
  {
   "cell_type": "code",
   "execution_count": 12,
   "metadata": {},
   "outputs": [
    {
     "data": {
      "text/plain": [
       "13"
      ]
     },
     "execution_count": 12,
     "metadata": {},
     "output_type": "execute_result"
    }
   ],
   "source": [
    "len(s)"
   ]
  },
  {
   "cell_type": "code",
   "execution_count": 17,
   "metadata": {},
   "outputs": [
    {
     "name": "stdout",
     "output_type": "stream",
     "text": [
      "True\n",
      "1\n"
     ]
    }
   ],
   "source": [
    "print(bool(1))\n",
    "a= True\n",
    "print(int(True))\n"
   ]
  },
  {
   "cell_type": "code",
   "execution_count": 20,
   "metadata": {},
   "outputs": [],
   "source": [
    "if False:\n",
    "    print(\"Failed\")"
   ]
  },
  {
   "cell_type": "markdown",
   "metadata": {},
   "source": [
    "# READ Json Object"
   ]
  },
  {
   "cell_type": "code",
   "execution_count": 6,
   "metadata": {},
   "outputs": [
    {
     "name": "stdout",
     "output_type": "stream",
     "text": [
      "      countPerday country    first_hit_pagename   hits_avg  logged_in region  \\\n",
      "0               1     deu                   NaN  17.278988          0     ni   \n",
      "1               2     gbr         United States   4.936854          0    cov   \n",
      "2               3     prt                Select   6.171067          0     30   \n",
      "3               4     deu              homepage  18.513201          0     nw   \n",
      "4               5     deu   FAQ: Corona updates   8.639494          0     nw   \n",
      "5               6     deu              Myflight   4.936854          0     nw   \n",
      "6               7     deu               Deutsch   2.468427          0     nw   \n",
      "7               8     aut  Eurowings - Check-in   3.702640          0      6   \n",
      "8               9     alb               Deutsch  11.107921          0     11   \n",
      "9              10     srb         United States   1.234213          0     25   \n",
      "10             11     swe               English   6.171067          0     ab   \n",
      "11             12     che               Deutsch   2.468427          0     zh   \n",
      "12             13     aut           Ã–sterreich   2.468427          0      8   \n",
      "13             14     arg              EspaÃ±ol  34.557976          2      c   \n",
      "14             15     deu                Select   2.468427          0     bw   \n",
      "15             16     usa             FranÃ§ais   1.234213          0     ny   \n",
      "16             17     deu              EspaÃ±ol   1.234213          0     hh   \n",
      "17             18     deu                   NaN   3.702640          0     nw   \n",
      "18             19     deu                Select   8.639494          0     nw   \n",
      "19             20     deu                   NaN   6.171067          0     nw   \n",
      "20             21     deu             FranÃ§ais   4.936854          0     nw   \n",
      "21             22     esp               Deutsch  50.602751          1     pm   \n",
      "22             23     deu               Deutsch  25.918482          0     bw   \n",
      "23             24     svk               Deutsch  28.386909          0     zi   \n",
      "24             25     deu               Deutsch   6.171067          0     bw   \n",
      "25             26     deu               Deutsch   9.873707          0     by   \n",
      "26             27     che              homepage   1.234213          0     vd   \n",
      "27             28     deu  Eurowings - Check-in  14.810561          0     nw   \n",
      "28             29     deu               Deutsch  86.394940          2     nw   \n",
      "29             30     deu  Eurowings - Check-in   1.234213          0     ni   \n",
      "...           ...     ...                   ...        ...        ...    ...   \n",
      "9969         9970     deu                   NaN   2.468427          0     nw   \n",
      "9970         9971     deu               Deutsch   2.468427          0     nw   \n",
      "9971         9972     deu               Deutsch   9.873707          0     by   \n",
      "9972         9973     deu              homepage   1.234213          0     be   \n",
      "9973         9974     deu                   NaN   3.702640          0     nw   \n",
      "9974         9975     fra      Buchung einsehen   1.234213          0    ges   \n",
      "9975         9976     deu               Deutsch   2.468427          0     nw   \n",
      "9976         9977     deu                   NaN   4.936854          0     th   \n",
      "9977         9978     deu  Eurowings - Check-in   2.468427          0     he   \n",
      "9978         9979     deu                   NaN   2.468427          0     nw   \n",
      "9979         9980     gbr               English   4.936854          0    hry   \n",
      "9980         9981     deu              Italiano   2.468427          0     he   \n",
      "9981         9982     deu               Deutsch  35.792190          0     nw   \n",
      "9982         9983     usa  Eurowings - Check-in   3.702640          0     wa   \n",
      "9983         9984     deu                Select  66.647525          1     nw   \n",
      "9984         9985     deu                   NaN   2.468427          0     hb   \n",
      "9985         9986     deu                   NaN  11.107921          0     nw   \n",
      "9986         9987     deu                Select   1.234213          0     by   \n",
      "9987         9988     deu                   NaN   2.468427          0     hh   \n",
      "9988         9989     deu                   NaN  27.152696          0     sh   \n",
      "9989         9990     deu                   NaN   3.702640          0     by   \n",
      "9990         9991     deu                   NaN   2.468427          0     nw   \n",
      "9991         9992     deu                   NaN  49.368537          2     bw   \n",
      "9992         9993     deu                   NaN   2.468427          0     nw   \n",
      "9993         9994     deu               Deutsch  23.450055          0     nw   \n",
      "9994         9995     deu               Deutsch   2.468427          0     hh   \n",
      "9995         9996     deu   FAQ: Corona updates   1.234213          0     bw   \n",
      "9996         9997     usa         United States   1.234213          0     wa   \n",
      "9997         9998     usa         United States   1.234213          0     wa   \n",
      "9998         9999     deu                   NaN  12.342134          0     by   \n",
      "\n",
      "      registered          visit_start    visitor_id  visits  \n",
      "0          False    27-01-21 00:00:00           NaN       1  \n",
      "1          False  2021-01-27 00:00:01  2.757756e+10       2  \n",
      "2          False  2021-01-27 00:00:02  1.383274e+10       1  \n",
      "3          False  2021-01-27 00:00:08  3.287966e+10       1  \n",
      "4          False    27-01-21 00:00:19           NaN       1  \n",
      "5          False  2021-01-27 00:00:20  4.569249e+10       1  \n",
      "6          False  2021-01-27 00:00:24  2.164837e+09       1  \n",
      "7          False  2021-01-27 00:00:25  1.963231e+09       1  \n",
      "8          False    27-01-21 00:00:26           NaN       2  \n",
      "9          False  2021-01-27 00:00:36  4.188372e+10       1  \n",
      "10         False  2021-01-27 00:00:36  2.746951e+10       1  \n",
      "11         False  2021-01-27 00:00:46  3.370845e+10       1  \n",
      "12         False    27-01-21 00:00:48           NaN       1  \n",
      "13         False  2021-01-27 00:00:52  2.134720e+10       2  \n",
      "14         False  2021-01-27 00:01:00  1.084556e+09       1  \n",
      "15         False    27-01-21 00:01:01           NaN       1  \n",
      "16         False  2021-01-27 00:01:06  1.896744e+10       1  \n",
      "17         False  2021-01-27 00:01:08  3.767563e+10       1  \n",
      "18         False    27-01-21 00:01:12           NaN       1  \n",
      "19         False  2021-01-27 00:01:25  4.392868e+10       1  \n",
      "20         False  2021-01-27 00:01:39  6.523839e+09       1  \n",
      "21         False  2021-01-27 00:01:43  3.592736e+10       1  \n",
      "22         False  2021-01-27 00:01:48  2.489978e+10       1  \n",
      "23         False  2021-01-27 00:01:54  2.894260e+09       1  \n",
      "24         False  2021-01-27 00:01:57  5.638431e+09       1  \n",
      "25         False  2021-01-27 00:02:00  1.688441e+10       1  \n",
      "26         False  2021-01-27 00:02:10  2.601675e+10       1  \n",
      "27         False    27-01-21 00:02:20           NaN       2  \n",
      "28         False    27-01-21 00:02:20           NaN       2  \n",
      "29         False    27-01-21 00:02:20           NaN       1  \n",
      "...          ...                  ...           ...     ...  \n",
      "9969       False  2021-01-27 19:22:13  2.511709e+10       1  \n",
      "9970       False  2021-01-27 19:22:15  3.873492e+09       1  \n",
      "9971       False  2021-01-27 19:22:16  2.663641e+10       1  \n",
      "9972       False  2021-01-27 19:22:23  3.384317e+10       1  \n",
      "9973       False  2021-01-27 19:22:26  2.469959e+10       1  \n",
      "9974       False  2021-01-27 19:22:27  1.494504e+10       1  \n",
      "9975       False  2021-01-27 19:22:28  4.667698e+08       1  \n",
      "9976       False  2021-01-27 19:22:33  2.608209e+09       1  \n",
      "9977       False  2021-01-27 19:22:36  1.066718e+10       1  \n",
      "9978       False  2021-01-27 19:22:42  4.618573e+10       1  \n",
      "9979       False    27-01-21 19:22:45           NaN       1  \n",
      "9980       False  2021-01-27 19:22:47  2.482508e+10       1  \n",
      "9981       False  2021-01-27 19:23:03  2.998993e+10       2  \n",
      "9982       False    27-01-21 19:23:09           NaN       1  \n",
      "9983       False  2021-01-27 19:23:11  4.209721e+10       1  \n",
      "9984       False  2021-01-27 19:23:20  2.508355e+10       1  \n",
      "9985       False  2021-01-27 19:23:31  2.230012e+09       1  \n",
      "9986       False  2021-01-27 19:23:39  4.158393e+10       1  \n",
      "9987       False  2021-01-27 19:23:51  9.852117e+09       1  \n",
      "9988       False  2021-01-27 19:23:52  3.479042e+10       1  \n",
      "9989       False  2021-01-27 19:23:55  2.651601e+10       1  \n",
      "9990       False  2021-01-27 19:24:02  6.445224e+09       1  \n",
      "9991       False  2021-01-27 19:24:04  3.537415e+10       2  \n",
      "9992       False  2021-01-27 19:24:13  3.069687e+10       1  \n",
      "9993       False    27-01-21 19:24:18           NaN       1  \n",
      "9994       False  2021-01-27 19:24:24  4.021340e+10       1  \n",
      "9995       False  2021-01-27 19:24:28  6.969978e+09       1  \n",
      "9996       False  2021-01-27 19:24:29  1.840153e+08       1  \n",
      "9997       False    27-01-21 19:24:31           NaN       1  \n",
      "9998       False  2021-01-27 19:24:32  4.761638e+10       1  \n",
      "\n",
      "[9999 rows x 10 columns]\n"
     ]
    }
   ],
   "source": [
    "#read json file into dataframe\n",
    "import pandas as pd\n",
    "import numpy as np\n",
    "import json\n",
    "df = pd.read_json(r\"C:/Users/Tossen Macs/Downloads/data-assignment/visitors/visitors-part-00000-20200126.json\",lines=True)\n",
    "#df.printSchema()\n",
    "print(df)"
   ]
  },
  {
   "cell_type": "markdown",
   "metadata": {},
   "source": [
    "## Read Multiple json object"
   ]
  },
  {
   "cell_type": "code",
   "execution_count": 1,
   "metadata": {},
   "outputs": [
    {
     "data": {
      "text/html": [
       "<div>\n",
       "<style scoped>\n",
       "    .dataframe tbody tr th:only-of-type {\n",
       "        vertical-align: middle;\n",
       "    }\n",
       "\n",
       "    .dataframe tbody tr th {\n",
       "        vertical-align: top;\n",
       "    }\n",
       "\n",
       "    .dataframe thead th {\n",
       "        text-align: right;\n",
       "    }\n",
       "</style>\n",
       "<table border=\"1\" class=\"dataframe\">\n",
       "  <thead>\n",
       "    <tr style=\"text-align: right;\">\n",
       "      <th></th>\n",
       "      <th>countPerday</th>\n",
       "      <th>country</th>\n",
       "      <th>first_hit_pagename</th>\n",
       "      <th>hits_avg</th>\n",
       "      <th>logged_in</th>\n",
       "      <th>region</th>\n",
       "      <th>registered</th>\n",
       "      <th>visit_start</th>\n",
       "      <th>visitor_id</th>\n",
       "      <th>visits</th>\n",
       "    </tr>\n",
       "  </thead>\n",
       "  <tbody>\n",
       "    <tr>\n",
       "      <th>229972</th>\n",
       "      <td>9995</td>\n",
       "      <td>deu</td>\n",
       "      <td>Select</td>\n",
       "      <td>22.215842</td>\n",
       "      <td>0</td>\n",
       "      <td>nw</td>\n",
       "      <td>False</td>\n",
       "      <td>2021-05-10 09:04:15</td>\n",
       "      <td>2.494461e+10</td>\n",
       "      <td>1</td>\n",
       "    </tr>\n",
       "    <tr>\n",
       "      <th>229973</th>\n",
       "      <td>9996</td>\n",
       "      <td>deu</td>\n",
       "      <td>Deutsch</td>\n",
       "      <td>13.576348</td>\n",
       "      <td>0</td>\n",
       "      <td>hh</td>\n",
       "      <td>False</td>\n",
       "      <td>2021-05-10 09:04:17</td>\n",
       "      <td>3.279242e+10</td>\n",
       "      <td>1</td>\n",
       "    </tr>\n",
       "    <tr>\n",
       "      <th>229974</th>\n",
       "      <td>9997</td>\n",
       "      <td>grc</td>\n",
       "      <td>English</td>\n",
       "      <td>4.936854</td>\n",
       "      <td>0</td>\n",
       "      <td>b</td>\n",
       "      <td>False</td>\n",
       "      <td>2021-05-10 09:04:17</td>\n",
       "      <td>4.074082e+10</td>\n",
       "      <td>1</td>\n",
       "    </tr>\n",
       "    <tr>\n",
       "      <th>229975</th>\n",
       "      <td>9998</td>\n",
       "      <td>deu</td>\n",
       "      <td>Select</td>\n",
       "      <td>37.026403</td>\n",
       "      <td>0</td>\n",
       "      <td>bw</td>\n",
       "      <td>False</td>\n",
       "      <td>2021-05-10 09:04:17</td>\n",
       "      <td>2.236860e+10</td>\n",
       "      <td>2</td>\n",
       "    </tr>\n",
       "    <tr>\n",
       "      <th>229976</th>\n",
       "      <td>9999</td>\n",
       "      <td>deu</td>\n",
       "      <td>NaN</td>\n",
       "      <td>35.792190</td>\n",
       "      <td>0</td>\n",
       "      <td>nw</td>\n",
       "      <td>False</td>\n",
       "      <td>2021-05-10 09:04:18</td>\n",
       "      <td>1.125277e+10</td>\n",
       "      <td>1</td>\n",
       "    </tr>\n",
       "  </tbody>\n",
       "</table>\n",
       "</div>"
      ],
      "text/plain": [
       "        countPerday country first_hit_pagename   hits_avg  logged_in region  \\\n",
       "229972         9995     deu             Select  22.215842          0     nw   \n",
       "229973         9996     deu            Deutsch  13.576348          0     hh   \n",
       "229974         9997     grc            English   4.936854          0      b   \n",
       "229975         9998     deu             Select  37.026403          0     bw   \n",
       "229976         9999     deu                NaN  35.792190          0     nw   \n",
       "\n",
       "        registered          visit_start    visitor_id  visits  \n",
       "229972       False  2021-05-10 09:04:15  2.494461e+10       1  \n",
       "229973       False  2021-05-10 09:04:17  3.279242e+10       1  \n",
       "229974       False  2021-05-10 09:04:17  4.074082e+10       1  \n",
       "229975       False  2021-05-10 09:04:17  2.236860e+10       2  \n",
       "229976       False  2021-05-10 09:04:18  1.125277e+10       1  "
      ]
     },
     "execution_count": 1,
     "metadata": {},
     "output_type": "execute_result"
    }
   ],
   "source": [
    "#read json file into dataframe\n",
    "import pandas as pd\n",
    "import numpy as np\n",
    "import json\n",
    "import os\n",
    "from glob import glob\n",
    "files_path = \"C:/Users/Tossen Macs/Downloads/data-assignment/visitors\"\n",
    "files = glob(os.path.join(files_path,\"*.json\"))\n",
    "files.sort()\n",
    "files\n",
    "df1 = pd.concat((pd.read_json(file, lines = True) for file in files), ignore_index = True)\n",
    "df1.tail()"
   ]
  },
  {
   "cell_type": "code",
   "execution_count": 4,
   "metadata": {},
   "outputs": [
    {
     "ename": "AttributeError",
     "evalue": "'DataFrame' object has no attribute 'createOrReplaceTempView'",
     "output_type": "error",
     "traceback": [
      "\u001b[1;31m---------------------------------------------------------------------------\u001b[0m",
      "\u001b[1;31mAttributeError\u001b[0m                            Traceback (most recent call last)",
      "\u001b[1;32m<ipython-input-4-63d9d492d937>\u001b[0m in \u001b[0;36m<module>\u001b[1;34m\u001b[0m\n\u001b[1;32m----> 1\u001b[1;33m \u001b[0mdf1\u001b[0m\u001b[1;33m.\u001b[0m\u001b[0mcreateOrReplaceTempView\u001b[0m\u001b[1;33m(\u001b[0m\u001b[1;34m\"visitors\"\u001b[0m\u001b[1;33m)\u001b[0m\u001b[1;33m\u001b[0m\u001b[1;33m\u001b[0m\u001b[0m\n\u001b[0m",
      "\u001b[1;32mC:\\ProgramData\\Anaconda3\\lib\\site-packages\\pandas\\core\\generic.py\u001b[0m in \u001b[0;36m__getattr__\u001b[1;34m(self, name)\u001b[0m\n\u001b[0;32m   5065\u001b[0m             \u001b[1;32mif\u001b[0m \u001b[0mself\u001b[0m\u001b[1;33m.\u001b[0m\u001b[0m_info_axis\u001b[0m\u001b[1;33m.\u001b[0m\u001b[0m_can_hold_identifiers_and_holds_name\u001b[0m\u001b[1;33m(\u001b[0m\u001b[0mname\u001b[0m\u001b[1;33m)\u001b[0m\u001b[1;33m:\u001b[0m\u001b[1;33m\u001b[0m\u001b[1;33m\u001b[0m\u001b[0m\n\u001b[0;32m   5066\u001b[0m                 \u001b[1;32mreturn\u001b[0m \u001b[0mself\u001b[0m\u001b[1;33m[\u001b[0m\u001b[0mname\u001b[0m\u001b[1;33m]\u001b[0m\u001b[1;33m\u001b[0m\u001b[1;33m\u001b[0m\u001b[0m\n\u001b[1;32m-> 5067\u001b[1;33m             \u001b[1;32mreturn\u001b[0m \u001b[0mobject\u001b[0m\u001b[1;33m.\u001b[0m\u001b[0m__getattribute__\u001b[0m\u001b[1;33m(\u001b[0m\u001b[0mself\u001b[0m\u001b[1;33m,\u001b[0m \u001b[0mname\u001b[0m\u001b[1;33m)\u001b[0m\u001b[1;33m\u001b[0m\u001b[1;33m\u001b[0m\u001b[0m\n\u001b[0m\u001b[0;32m   5068\u001b[0m \u001b[1;33m\u001b[0m\u001b[0m\n\u001b[0;32m   5069\u001b[0m     \u001b[1;32mdef\u001b[0m \u001b[0m__setattr__\u001b[0m\u001b[1;33m(\u001b[0m\u001b[0mself\u001b[0m\u001b[1;33m,\u001b[0m \u001b[0mname\u001b[0m\u001b[1;33m,\u001b[0m \u001b[0mvalue\u001b[0m\u001b[1;33m)\u001b[0m\u001b[1;33m:\u001b[0m\u001b[1;33m\u001b[0m\u001b[1;33m\u001b[0m\u001b[0m\n",
      "\u001b[1;31mAttributeError\u001b[0m: 'DataFrame' object has no attribute 'createOrReplaceTempView'"
     ]
    }
   ],
   "source": [
    "df1.createOrReplaceTempView(\"visitors\")"
   ]
  },
  {
   "cell_type": "code",
   "execution_count": 28,
   "metadata": {},
   "outputs": [],
   "source": [
    "#files_path = \"C:\\Tossen\\Library\\Udemy Course\\data-assignment\\searches\"\n",
    "# df1 = spark.read.option(multiline = True).json(files_path,\"*.json\")\n",
    "#import required modules\n",
    "from pyspark import SparkConf, SparkContext\n",
    "from pyspark.sql import SparkSession\n",
    " \n",
    "#Create spark configuration object\n",
    "conf = SparkConf()\n",
    "conf.setMaster(\"local\").setAppName(\"My app\")\n",
    " \n",
    "#Create spark context and sparksession\n",
    "sc = SparkContext.getOrCreate(conf=conf)\n",
    "spark = SparkSession(sc)\n",
    "from pyspark.sql import SQLContext\n",
    "sql_c = SQLContext(sc)\n",
    "df1 = sql_c.read.json('C:/Tossen/Library/Udemy Course/data-assignment/searches/searches-part*',ignore_index = True)\n",
    "df1.tail()"
   ]
  },
  {
   "cell_type": "code",
   "execution_count": null,
   "metadata": {},
   "outputs": [],
   "source": [
    "print(bool(1))"
   ]
  },
  {
   "cell_type": "code",
   "execution_count": 4,
   "metadata": {},
   "outputs": [
    {
     "name": "stdout",
     "output_type": "stream",
     "text": [
      "1\n"
     ]
    }
   ],
   "source": [
    "print(int(True))"
   ]
  },
  {
   "cell_type": "code",
   "execution_count": 37,
   "metadata": {},
   "outputs": [
    {
     "name": "stdout",
     "output_type": "stream",
     "text": [
      "[1, 2, 3, 4, 5, 6, 7, 8, 9, 10] (1, 2, 3, 4, 5, 6, 7, 8, 9, 10)\n"
     ]
    }
   ],
   "source": [
    "k = [1, 2, 3, 4, 5, 6, 7, 8, 9, 10]\n",
    "j = (1, 2, 3, 4, 5, 6, 7, 8, 9, 10)\n",
    "print(k,j)"
   ]
  },
  {
   "cell_type": "code",
   "execution_count": 43,
   "metadata": {},
   "outputs": [
    {
     "name": "stdout",
     "output_type": "stream",
     "text": [
      "[11, 10, 9, 8, 7, 6, 5, 4, 3, 1]\n",
      "[1, 3, 4, 5, 6, 7, 8, 9, 10, 11, 11]\n"
     ]
    }
   ],
   "source": [
    "print(k[10::-1])\n",
    "k.append(11)\n",
    "print(k)"
   ]
  },
  {
   "cell_type": "code",
   "execution_count": 44,
   "metadata": {},
   "outputs": [],
   "source": [
    "k.extend([1,3])"
   ]
  },
  {
   "cell_type": "code",
   "execution_count": 41,
   "metadata": {},
   "outputs": [
    {
     "name": "stdout",
     "output_type": "stream",
     "text": [
      "[1, 2, 3, 4, 5, 6, 7, 8, 9, 10, 11, 13]\n"
     ]
    }
   ],
   "source": [
    "a  = 13\n",
    "print(k)\n",
    "k.append(11)\n",
    "k.append(a)"
   ]
  },
  {
   "cell_type": "code",
   "execution_count": 46,
   "metadata": {},
   "outputs": [
    {
     "data": {
      "text/plain": [
       "13"
      ]
     },
     "execution_count": 46,
     "metadata": {},
     "output_type": "execute_result"
    }
   ],
   "source": [
    "len(k)"
   ]
  },
  {
   "cell_type": "code",
   "execution_count": 47,
   "metadata": {},
   "outputs": [
    {
     "name": "stdout",
     "output_type": "stream",
     "text": [
      "13\n"
     ]
    }
   ],
   "source": [
    "print(len(k))"
   ]
  },
  {
   "cell_type": "code",
   "execution_count": 54,
   "metadata": {},
   "outputs": [
    {
     "name": "stdout",
     "output_type": "stream",
     "text": [
      "[1, 3, 4, 5, 6, 7, 8, 9, 10, 1, 3, 1, 3, 4, 5, 6, 7, 8, 9, 10, 1, 3]\n"
     ]
    }
   ],
   "source": [
    "m = k * 2\n",
    "print(m)\n"
   ]
  },
  {
   "cell_type": "code",
   "execution_count": 55,
   "metadata": {},
   "outputs": [
    {
     "name": "stdout",
     "output_type": "stream",
     "text": [
      "[1, 9, 16, 25, 36, 49, 64, 81, 100, 1, 9, 1, 9, 16, 25, 36, 49, 64, 81, 100, 1, 9]\n"
     ]
    }
   ],
   "source": [
    "N = [x**2 for x in m]\n",
    "print (N)"
   ]
  },
  {
   "cell_type": "code",
   "execution_count": 67,
   "metadata": {},
   "outputs": [
    {
     "name": "stdout",
     "output_type": "stream",
     "text": [
      "3\n",
      "6\n",
      "9\n"
     ]
    }
   ],
   "source": [
    "l=[1,2, 3, 4, 5, 6, 7, 8, 9, 10]\n",
    "for x in l: \n",
    "    if x%3 == 0:\n",
    "        print(x)"
   ]
  },
  {
   "cell_type": "code",
   "execution_count": 72,
   "metadata": {},
   "outputs": [
    {
     "data": {
      "text/plain": [
       "4"
      ]
     },
     "execution_count": 72,
     "metadata": {},
     "output_type": "execute_result"
    }
   ],
   "source": [
    "t = 'mississipi'\n",
    "t.count('s')\n"
   ]
  },
  {
   "cell_type": "code",
   "execution_count": 92,
   "metadata": {},
   "outputs": [
    {
     "name": "stdout",
     "output_type": "stream",
     "text": [
      "C:\\Users\\Tossen Macs 2021-06-19 11:15:12.925233\n"
     ]
    }
   ],
   "source": [
    "import os\n",
    "from datetime import datetime\n",
    "cwd = os.getcwd()\n",
    "time = datetime.now()\n",
    "print(cwd,time)   "
   ]
  },
  {
   "cell_type": "code",
   "execution_count": 8,
   "metadata": {},
   "outputs": [
    {
     "name": "stdout",
     "output_type": "stream",
     "text": [
      "now = 2021-08-08 03:14:55.280543\n"
     ]
    }
   ],
   "source": [
    "from datetime import datetime\n",
    "\n",
    "# datetime object containing current date and time\n",
    "now = datetime.now()\n",
    " \n",
    "print(\"now =\", now)\n",
    "\n"
   ]
  },
  {
   "cell_type": "code",
   "execution_count": 14,
   "metadata": {},
   "outputs": [],
   "source": [
    "from pandas import DataFrame\n",
    "exception_list =dir(locals()['__builtins__'])\n",
    "df=DataFrame(exception_list,columns=['Exception'])\n",
    "#print(df)\n"
   ]
  },
  {
   "cell_type": "code",
   "execution_count": 2,
   "metadata": {},
   "outputs": [
    {
     "ename": "NameError",
     "evalue": "name 'df' is not defined",
     "output_type": "error",
     "traceback": [
      "\u001b[1;31m---------------------------------------------------------------------------\u001b[0m",
      "\u001b[1;31mNameError\u001b[0m                                 Traceback (most recent call last)",
      "\u001b[1;32m<ipython-input-2-3549f7712909>\u001b[0m in \u001b[0;36m<module>\u001b[1;34m\u001b[0m\n\u001b[1;32m----> 1\u001b[1;33m \u001b[0mprint\u001b[0m\u001b[1;33m(\u001b[0m\u001b[0mtype\u001b[0m\u001b[1;33m(\u001b[0m\u001b[0mdf\u001b[0m\u001b[1;33m)\u001b[0m\u001b[1;33m)\u001b[0m\u001b[1;33m\u001b[0m\u001b[1;33m\u001b[0m\u001b[0m\n\u001b[0m",
      "\u001b[1;31mNameError\u001b[0m: name 'df' is not defined"
     ]
    }
   ],
   "source": [
    "print(type(df))"
   ]
  },
  {
   "cell_type": "markdown",
   "metadata": {},
   "source": [
    "# WRITE RECORDS TO SQL SERVER PYTHON"
   ]
  },
  {
   "cell_type": "code",
   "execution_count": 47,
   "metadata": {},
   "outputs": [],
   "source": [
    "import urllib\n",
    "import sqlalchemy as sa\n",
    "import pyodbc\n",
    "import pandas as pd\n",
    "\n",
    "connection_string = (\n",
    "    'Driver={ODBC Driver 11 for SQL Server};'\n",
    "    'SERVER=TMACS-ENGINE\\SA;'\n",
    "    'Database=EKEDC;'\n",
    "    'UID=sa;'\n",
    "    'PWD=Password123$;'\n",
    "    'Trusted_Connection=no;'\n",
    ")\n",
    "connection_uri = f\"mssql+pyodbc:///?odbc_connect={urllib.parse.quote_plus(connection_string)}\"\n",
    "engine = sa.create_engine(connection_uri, fast_executemany=True)\n",
    "\n",
    "# Deleting existing data in SQL Table:-\n",
    "#with engine.begin() as conn:\n",
    "#    conn.execute(sa.text(\"DELETE FROM datbase.schema.TableName\"))\n",
    "df.to_sql(\"Visitor\", engine, schema=\"dbo\", if_exists=\"append\", index=False)\n"
   ]
  },
  {
   "cell_type": "markdown",
   "metadata": {},
   "source": [
    "# READ RECORDS FROM SQL SERVER PYTHON"
   ]
  },
  {
   "cell_type": "markdown",
   "metadata": {},
   "source": [
    "# READ RESULT TO CURSOR"
   ]
  },
  {
   "cell_type": "code",
   "execution_count": null,
   "metadata": {},
   "outputs": [],
   "source": [
    "import urllib\n",
    "import sqlalchemy as sa\n",
    "import pyodbc\n",
    "import pandas as pd\n",
    "\n",
    "conn =  pyodbc.connect('Driver={ODBC Driver 11 for SQL Server};'\n",
    "    'SERVER=TMACS-ENGINE\\SA;'\n",
    "    'Database=CrownA+;'\n",
    "    'UID=sa;'\n",
    "    'PWD=Password123$;'\n",
    "    'Trusted_Connection=no;'\n",
    ")\n",
    "TopCursor = conn.cursor()\n",
    "result= TopCursor.execute(\"SELECT TOP 5 * FROM CBTransactions\")\n",
    "for row in TopCursor:\n",
    "    print('row = %r' % (row,))\n",
    "   "
   ]
  },
  {
   "cell_type": "markdown",
   "metadata": {},
   "source": [
    "## READ SQL TABLE TO DATAFRAME"
   ]
  },
  {
   "cell_type": "code",
   "execution_count": 2,
   "metadata": {},
   "outputs": [
    {
     "name": "stdout",
     "output_type": "stream",
     "text": [
      "    ID  CustomerID   Amount  TransactionTypeID         TransactionDate  \\\n",
      "0  344       10381  13500.0                  1 2015-06-24 15:44:12.420   \n",
      "1  345       10381  57500.0                  2 2015-06-24 15:44:12.427   \n",
      "2  346       10380  27200.0                  1 2015-06-24 15:44:12.427   \n",
      "3  347       10380  35000.0                  2 2015-06-24 15:44:12.430   \n",
      "4  348       10379  12000.0                  1 2015-06-24 15:44:12.437   \n",
      "\n",
      "   IsSuccessful                             CreatedBy  \n",
      "0          True  B2E4D3CA-5449-47F4-B568-31E489C24A17  \n",
      "1          True  B2E4D3CA-5449-47F4-B568-31E489C24A17  \n",
      "2          True  B2E4D3CA-5449-47F4-B568-31E489C24A17  \n",
      "3          True  B2E4D3CA-5449-47F4-B568-31E489C24A17  \n",
      "4          True  B2E4D3CA-5449-47F4-B568-31E489C24A17  \n"
     ]
    }
   ],
   "source": [
    "import pyodbc\n",
    "import pandas as pd\n",
    "cnxn = pyodbc.connect(\"Driver={SQL Server Native Client 11.0};\"\n",
    "                        \"Server=TMACS-ENGINE\\sa;\"\n",
    "                        \"Database=CrownA+;\"\n",
    "                        \"uid=sa;pwd=Password123$\")\n",
    "\n",
    "# inputParam = input('Enter Search Param :')\n",
    "# inputTableInstance = input('Enter Search TableInstance :')\n",
    "df = pd.read_sql_query('select top 5 * from CBtransactions', cnxn)\n",
    "print(df)"
   ]
  },
  {
   "cell_type": "markdown",
   "metadata": {},
   "source": [
    "#### New found hobby"
   ]
  },
  {
   "cell_type": "code",
   "execution_count": null,
   "metadata": {},
   "outputs": [],
   "source": []
  },
  {
   "cell_type": "markdown",
   "metadata": {},
   "source": [
    "## PYTHON REGULAR EXPRESSION"
   ]
  },
  {
   "cell_type": "code",
   "execution_count": 31,
   "metadata": {},
   "outputs": [
    {
     "name": "stdout",
     "output_type": "stream",
     "text": [
      "<_sre.SRE_Match object; span=(0, 17), match='The rain in Spain'>\n"
     ]
    }
   ],
   "source": [
    "import re\n",
    "\n",
    "txt = \"The rain in Spain\"\n",
    "x = re.search(\"^The.*Spain$\", txt)\n",
    "print(x)"
   ]
  },
  {
   "cell_type": "code",
   "execution_count": 9,
   "metadata": {},
   "outputs": [
    {
     "name": "stdout",
     "output_type": "stream",
     "text": [
      "[3, 6, 9]\n"
     ]
    }
   ],
   "source": [
    "l=[1,2, 3, 4, 5, 6, 7, 8, 9, 10]\n",
    "k = []\n",
    "[k.append(x) for x in l if x%3 == 0]\n",
    "print (k)    "
   ]
  },
  {
   "cell_type": "code",
   "execution_count": 16,
   "metadata": {},
   "outputs": [
    {
     "name": "stdout",
     "output_type": "stream",
     "text": [
      "6\n"
     ]
    }
   ],
   "source": [
    "print(k[1])"
   ]
  },
  {
   "cell_type": "code",
   "execution_count": 3,
   "metadata": {},
   "outputs": [
    {
     "name": "stdout",
     "output_type": "stream",
     "text": [
      "abcd\n"
     ]
    }
   ],
   "source": [
    "stg='ABCD'\n",
    "print(stg.lower())"
   ]
  },
  {
   "cell_type": "code",
   "execution_count": 104,
   "metadata": {},
   "outputs": [
    {
     "name": "stdout",
     "output_type": "stream",
     "text": [
      "4.6\n",
      "array('d', [1.1, 2.2, 3.8, 3.1, 3.7])\n"
     ]
    }
   ],
   "source": [
    "import array as arr\n",
    "a=arr.array('d', [1.1, 2.2, 3.8, 3.1, 3.7, 1.2, 4.6])\n",
    "print(a.pop())\n",
    "print(a[:-1])\n"
   ]
  },
  {
   "cell_type": "markdown",
   "metadata": {},
   "source": [
    "###  STRING REVERSAL"
   ]
  },
  {
   "cell_type": "code",
   "execution_count": 107,
   "metadata": {},
   "outputs": [
    {
     "name": "stdout",
     "output_type": "stream",
     "text": [
      "esor\n",
      "esor\n"
     ]
    }
   ],
   "source": [
    "# Reverse a string.\n",
    "\n",
    "#Input: rose\n",
    "#Output:  esor\n",
    "\n",
    "def reverse_1(s):\n",
    "    return s[::-1]\n",
    "\n",
    "def reverse_2(s):\n",
    "    rev = '' \n",
    "    for i in range(len(s)):\n",
    "        index = len(s) - i - 1\n",
    "        rev += s[index]\n",
    "    return rev\n",
    "\n",
    "print (reverse_1('rose'))\n",
    "print (reverse_2('rose'))"
   ]
  },
  {
   "cell_type": "code",
   "execution_count": null,
   "metadata": {},
   "outputs": [],
   "source": [
    "Product (product_id, product_name, product_type, product_version, product_price)\n",
    "Customer  (customer_id, customer_first_name, customer_last_name, phone_number )\n",
    "Sales  (transaction_id, customer_id, product_id, timestamp, total_amount, total_quantity )\n",
    "Refund  (refund_id, original_transaction_id, customer_id, product_id, timestamp, refund_amount, refund_quantity)\n",
    "\n",
    "# a) Display the customer name who made the second most purchases in value in the month of May 2013. Refunds should be excluded.\n",
    "# b) Calculate the total amount of all transactions that happened in year 2013 and have not been refunded as of today."
   ]
  }
 ],
 "metadata": {
  "kernelspec": {
   "display_name": "Python 3",
   "language": "python",
   "name": "python3"
  },
  "language_info": {
   "codemirror_mode": {
    "name": "ipython",
    "version": 3
   },
   "file_extension": ".py",
   "mimetype": "text/x-python",
   "name": "python",
   "nbconvert_exporter": "python",
   "pygments_lexer": "ipython3",
   "version": "3.6.7"
  }
 },
 "nbformat": 4,
 "nbformat_minor": 2
}
